{
 "cells": [
  {
   "attachments": {},
   "cell_type": "markdown",
   "metadata": {},
   "source": [
    "<h3 style='color:orange'>Optimizer</h3>\n",
    "<p>You may sometimes see the term optimizer or optimiztion function. This is simply the function that implements the backpropagation algorithm. Here's a list of a few common ones used.</p>\n",
    "<ul>\n",
    "<li>Gradient Descent</li>\n",
    "<li>Stochastic Gradient Descent</li>\n",
    "<li>Mini-Batch Gradient Descent</li>\n",
    "<li>Momentum</li>\n",
    "<li>Nesterov Accelerated Gradient</li>\n",
    "</ul>\n",
    "<p>This article explains them well.</p><a target='_blank' href='https://medium.com/@sdoshi579/optimizers-for-training-neral-network-59450d71caf6'>Here</a>"
   ]
  },
  {
   "attachments": {},
   "cell_type": "markdown",
   "metadata": {},
   "source": [
    "<h3 style='color:orange'>Creating a Neual Network</h3>\n",
    "<a target='_blank' href='https://www.tensorflow.org/tutorials/keras/classification'>TensorFlow docs</a>"
   ]
  },
  {
   "cell_type": "code",
   "execution_count": 1,
   "metadata": {},
   "outputs": [],
   "source": [
    "# Imports\n",
    "import tensorflow as tf \n",
    "from tensorflow import keras \n",
    "\n",
    "# Helper libraries\n",
    "import numpy as np\n",
    "import matplotlib.pyplot as plt "
   ]
  },
  {
   "attachments": {},
   "cell_type": "markdown",
   "metadata": {},
   "source": [
    "<h3 style='color:orange'>Dataset</h3>\n",
    "<p>Gor this tutorial we will use the MNIST Fashion Dataset. This is a dataset that is included in keras. This dataset includes 60,000 images for training and 10,0000 images for validation/testing.</p>"
   ]
  },
  {
   "cell_type": "code",
   "execution_count": 3,
   "metadata": {},
   "outputs": [],
   "source": [
    "fashion_mnist = keras.datasets.fashion_mnist # load dataset\n",
    "(train_images, train_labels), (test_images, test_labels) = fashion_mnist.load_data() # split into testing and training\n"
   ]
  },
  {
   "cell_type": "code",
   "execution_count": 4,
   "metadata": {},
   "outputs": [
    {
     "data": {
      "text/plain": [
       "(60000, 28, 28)"
      ]
     },
     "execution_count": 4,
     "metadata": {},
     "output_type": "execute_result"
    }
   ],
   "source": [
    "train_images.shape"
   ]
  },
  {
   "attachments": {},
   "cell_type": "markdown",
   "metadata": {},
   "source": [
    "<p>We have 60000 images that are made up of 28 X 28 pixels (784 in total)</p>"
   ]
  },
  {
   "cell_type": "code",
   "execution_count": 5,
   "metadata": {},
   "outputs": [
    {
     "data": {
      "text/plain": [
       "194"
      ]
     },
     "execution_count": 5,
     "metadata": {},
     "output_type": "execute_result"
    }
   ],
   "source": [
    "train_images[0,23,23] # lets have a look at one pixel"
   ]
  },
  {
   "attachments": {},
   "cell_type": "markdown",
   "metadata": {},
   "source": [
    "<p>The number of that pixel stands for the gray scale number. range of 256, 0 being black and 255 being white.</p>"
   ]
  },
  {
   "cell_type": "code",
   "execution_count": 6,
   "metadata": {},
   "outputs": [
    {
     "data": {
      "text/plain": [
       "array([9, 0, 0, 3, 0, 2, 7, 2, 5, 5], dtype=uint8)"
      ]
     },
     "execution_count": 6,
     "metadata": {},
     "output_type": "execute_result"
    }
   ],
   "source": [
    "train_labels[:10] # a look at the first 10 training labels."
   ]
  },
  {
   "attachments": {},
   "cell_type": "markdown",
   "metadata": {},
   "source": [
    "<p>Our labels are integers ranging from 0-9. Each integer represents a specific article of clothing. We'll create an array of label names to indicate which is which.</p>"
   ]
  },
  {
   "cell_type": "code",
   "execution_count": 39,
   "metadata": {},
   "outputs": [],
   "source": [
    "class_names = ['T-shirt/top', 'Trouser', 'Pullover', 'Dress', 'Coat', 'Sandal', 'Shirt', 'Sneaker', 'Bag', 'Ankle boot']"
   ]
  },
  {
   "attachments": {},
   "cell_type": "markdown",
   "metadata": {},
   "source": [
    "<p>Let's look at what some of these images look like!</p>"
   ]
  },
  {
   "cell_type": "code",
   "execution_count": 9,
   "metadata": {},
   "outputs": [
    {
     "data": {
      "image/png": "[encoded data removed]",
      "text/plain": [
       "<Figure size 640x480 with 2 Axes>"
      ]
     },
     "metadata": {},
     "output_type": "display_data"
    }
   ],
   "source": [
    "plt.figure()\n",
    "plt.imshow(train_images[11])\n",
    "plt.colorbar()\n",
    "plt.grid(False)\n",
    "plt.show()"
   ]
  },
  {
   "attachments": {},
   "cell_type": "markdown",
   "metadata": {},
   "source": [
    "<h3 style='color:orange'>Data Preprocessing</h3>\n",
    "<p>The last step before creating our model is to preprocess our data. This simply means applying some prior transformations to our data before feeding it the model. In this case we will simply scale all of our greyscale pixel values (0-255) to be between 0 and 1. We can do this by dividing each value in the training and testing sets by 255.0. We do this because smaller values will make it easier for the model to process our values.</p>"
   ]
  },
  {
   "cell_type": "code",
   "execution_count": 10,
   "metadata": {},
   "outputs": [],
   "source": [
    "train_images = train_images / 255.0\n",
    "test_images = test_images / 255.0 "
   ]
  },
  {
   "attachments": {},
   "cell_type": "markdown",
   "metadata": {},
   "source": [
    "<h3 style='color:orange'>Building the Model</h3>\n",
    "<p>Now it's time to build the model! We are going to use a keras sequential model with three different layers. This model represents a feed-forward neural network (one that passes values from left to right). </p>"
   ]
  },
  {
   "cell_type": "code",
   "execution_count": 17,
   "metadata": {},
   "outputs": [],
   "source": [
    "mattsModel = keras.Sequential([\n",
    "    keras.layers.Flatten(input_shape=(28, 28)), # input layer (1)\n",
    "    keras.layers.Dense(128, activation='relu'), # hidden layer (2)\n",
    "    keras.layers.Dense(10, activation='softmax') # output layer (3)\n",
    "])"
   ]
  },
  {
   "attachments": {},
   "cell_type": "markdown",
   "metadata": {},
   "source": [
    "<p><b>Layer 1:</b> This is our input layer and it will conist of 784 neurons. We use the flatten layer with an input shape of (28,28) to denote that our input should come in that shape. The flatten means that our layer will reshape the shape (28, 28) array into a vector of 784 neurons so that each pixel will be associated with one neuron.</p>\n",
    "<p><b>Layer 2:</b> This is our first and only hidden layer. The dense denotes that this layer will be fully connected and each neuron from the previous layer connects to each neuron of this layer. It has 128 neurons and uses the rectify linear unit activation function.</p>\n",
    "<p><b>Layer 3:</b> This is our output layer and is also a dense layer. It has 10 neurons that we will look at to determine our models output. Each neuron represents the probability of a given image being one of the 10 different classes. The activation function softmax is used on this layer to calculate a probability distribution for each class. This means the value of any neuron in this layer will be between 0 and 1, where 1 represents a high probability of the image being that class.</p>"
   ]
  },
  {
   "attachments": {},
   "cell_type": "markdown",
   "metadata": {},
   "source": [
    "<h3 style='color:orange'>Compile the Model</h3>\n",
    "<p>The last step in building the model is to define the loss function, optimizer and metrics we would like to track.</p>"
   ]
  },
  {
   "cell_type": "code",
   "execution_count": 18,
   "metadata": {},
   "outputs": [],
   "source": [
    "mattsModel.compile(optimizer='adam',\n",
    "              loss='sparse_categorical_crossentropy',\n",
    "              metrics=['accuracy'])"
   ]
  },
  {
   "attachments": {},
   "cell_type": "markdown",
   "metadata": {},
   "source": [
    "<h3 style='color:orange'>Training the Model</h3>\n"
   ]
  },
  {
   "cell_type": "code",
   "execution_count": 19,
   "metadata": {},
   "outputs": [
    {
     "name": "stdout",
     "output_type": "stream",
     "text": [
      "Epoch 1/6\n",
      "1875/1875 [==============================] - 5s 2ms/step - loss: 0.4952 - accuracy: 0.8256\n",
      "Epoch 2/6\n",
      "1875/1875 [==============================] - 4s 2ms/step - loss: 0.3713 - accuracy: 0.8644\n",
      "Epoch 3/6\n",
      "1875/1875 [==============================] - 6s 3ms/step - loss: 0.3350 - accuracy: 0.8776\n",
      "Epoch 4/6\n",
      "1875/1875 [==============================] - 6s 3ms/step - loss: 0.3106 - accuracy: 0.8856\n",
      "Epoch 5/6\n",
      "1875/1875 [==============================] - 5s 3ms/step - loss: 0.2920 - accuracy: 0.8921\n",
      "Epoch 6/6\n",
      "1875/1875 [==============================] - 5s 2ms/step - loss: 0.2755 - accuracy: 0.8984\n"
     ]
    },
    {
     "data": {
      "text/plain": [
       "<keras.callbacks.History at 0x22b004adbd0>"
      ]
     },
     "execution_count": 19,
     "metadata": {},
     "output_type": "execute_result"
    }
   ],
   "source": [
    "mattsModel.fit(train_images, train_labels, epochs=6) # We pass the data, labels and epochs and watch the magic!"
   ]
  },
  {
   "attachments": {},
   "cell_type": "markdown",
   "metadata": {},
   "source": [
    "<h3 style='color:orange'>Evaluating the Model</h3>\n",
    "<p>Now it's time to test/evaluate the model. We can do this quite easily using another builin method from keras.</p><p>The verbose argument is defined from the keras documentation as: 'verbose: 0 or 1. Verbosity mode. 0 = silent, 1 = progress bar'.</p><a target='_blank' href='https://keras.io/models/sequential/'>keras.io/models/sequential</a>"
   ]
  },
  {
   "cell_type": "code",
   "execution_count": 20,
   "metadata": {},
   "outputs": [
    {
     "name": "stdout",
     "output_type": "stream",
     "text": [
      "313/313 [==============================] - 1s 2ms/step - loss: 0.3383 - accuracy: 0.8792\n",
      "Test accuracy: 0.8791999816894531\n"
     ]
    }
   ],
   "source": [
    "test_loss, test_acc = mattsModel.evaluate(test_images, test_labels, verbose=1)\n",
    "print('Test accuracy:', test_acc)"
   ]
  },
  {
   "attachments": {},
   "cell_type": "markdown",
   "metadata": {},
   "source": [
    "<p>You'll likely notice that the accuracy here is lower than when training the model. This difference is reffered to as <b>overfitting</b>. And now we have a trained model that's ready to use to predict some values! My original epochs was 10.</p>"
   ]
  },
  {
   "attachments": {},
   "cell_type": "markdown",
   "metadata": {},
   "source": [
    "<h3 style='color:orange'>Making Predictions</h3>\n",
    "<p>To make predictions we simply need to pass an array of data in the form we've specified in the input layer to <b> predict()</b> method.</p>"
   ]
  },
  {
   "cell_type": "code",
   "execution_count": 21,
   "metadata": {},
   "outputs": [
    {
     "name": "stdout",
     "output_type": "stream",
     "text": [
      "313/313 [==============================] - 2s 1ms/step\n"
     ]
    }
   ],
   "source": [
    "predictions = mattsModel.predict(test_images)"
   ]
  },
  {
   "attachments": {},
   "cell_type": "markdown",
   "metadata": {},
   "source": [
    "<p>This method returns to us an array of predictions for each image we passed it. Let's have a look at the predictions for image 1.</p>"
   ]
  },
  {
   "cell_type": "code",
   "execution_count": 22,
   "metadata": {},
   "outputs": [
    {
     "data": {
      "text/plain": [
       "array([1.8918061e-06, 1.0488686e-06, 9.3007327e-07, 5.6021896e-08,\n",
       "       1.7247033e-06, 3.2218948e-02, 6.1879027e-06, 1.5017553e-02,\n",
       "       2.7271759e-05, 9.5272440e-01], dtype=float32)"
      ]
     },
     "execution_count": 22,
     "metadata": {},
     "output_type": "execute_result"
    }
   ],
   "source": [
    "predictions[0]"
   ]
  },
  {
   "attachments": {},
   "cell_type": "markdown",
   "metadata": {},
   "source": [
    "<p>If we wan't to get the value with the highest score we can use a useful function from numpy called <b><i>argmax()</i></b>. This simply returns the index of the maximium value from a numpy array.</p>"
   ]
  },
  {
   "cell_type": "code",
   "execution_count": 23,
   "metadata": {},
   "outputs": [
    {
     "data": {
      "text/plain": [
       "9"
      ]
     },
     "execution_count": 23,
     "metadata": {},
     "output_type": "execute_result"
    }
   ],
   "source": [
    "np.argmax(predictions[0])"
   ]
  },
  {
   "attachments": {},
   "cell_type": "markdown",
   "metadata": {},
   "source": [
    "<p>And we can check if this is correct by looking at the value of the cooresponding test label.</p>"
   ]
  },
  {
   "cell_type": "code",
   "execution_count": 31,
   "metadata": {},
   "outputs": [
    {
     "data": {
      "text/plain": [
       "9"
      ]
     },
     "execution_count": 31,
     "metadata": {},
     "output_type": "execute_result"
    }
   ],
   "source": [
    "test_labels[0]"
   ]
  },
  {
   "cell_type": "code",
   "execution_count": 30,
   "metadata": {},
   "outputs": [
    {
     "name": "stdout",
     "output_type": "stream",
     "text": [
      "313/313 [==============================] - 0s 1ms/step\n",
      "Bag\n"
     ]
    },
    {
     "data": {
      "image/png": "[encoded data removed]",
      "text/plain": [
       "<Figure size 640x480 with 2 Axes>"
      ]
     },
     "metadata": {},
     "output_type": "display_data"
    }
   ],
   "source": [
    "num = 134\n",
    "predictions = mattsModel.predict(test_images)\n",
    "print(class_names[np.argmax(predictions[num])])\n",
    "plt.figure()\n",
    "plt.imshow(test_images[num])\n",
    "plt.colorbar()\n",
    "plt.show()"
   ]
  },
  {
   "cell_type": "code",
   "execution_count": null,
   "metadata": {},
   "outputs": [],
   "source": []
  },
  {
   "attachments": {},
   "cell_type": "markdown",
   "metadata": {},
   "source": [
    "<h3 style='color:orange'>Verifying Predictions</h3>\n",
    "<p>Here is a small function to help us verify predictions with some simple visuals.</p>"
   ]
  },
  {
   "cell_type": "code",
   "execution_count": 38,
   "metadata": {},
   "outputs": [
    {
     "name": "stdout",
     "output_type": "stream",
     "text": [
      "1/1 [==============================] - 0s 32ms/step\n"
     ]
    },
    {
     "data": {
      "image/png": "[encoded data removed]",
      "text/plain": [
       "<Figure size 640x480 with 2 Axes>"
      ]
     },
     "metadata": {},
     "output_type": "display_data"
    }
   ],
   "source": [
    "COLOR = 'white'\n",
    "plt.rcParams['text.color'] = COLOR \n",
    "plt.rcParams['axes.labelcolor'] = COLOR \n",
    "\n",
    "def predict(model, image, correct_label):\n",
    "    class_names = ['T-shirt/top', 'Trouser', 'Pullover', 'Dress', 'Coat', 'Sandal', 'Shirt', 'Sneaker', 'Bag', 'Ankle boot']\n",
    "    prediction = model.predict(np.array([image]))\n",
    "    predicted_class = class_names[np.argmax(prediction)]\n",
    "    \n",
    "    show_image(image, class_names[correct_label], predicted_class)\n",
    "    \n",
    "def show_image(img, label, guess):\n",
    "    plt.figure()\n",
    "    plt.imshow(img, cmap=plt.cm.binary)\n",
    "    plt.title('Expected: ' + label)\n",
    "    plt.xlabel('Guess: ' + guess)\n",
    "    plt.colorbar()\n",
    "    plt.grid(False)\n",
    "    plt.show()\n",
    "    \n",
    "def get_number():\n",
    "    while True:\n",
    "        num = input('Pick a number: ')\n",
    "        if num.isdigit():\n",
    "            num = int(num)\n",
    "            if 0 <= num <= 1000:\n",
    "                return int(num)\n",
    "        else:\n",
    "            print('Try again...')\n",
    "            \n",
    "num = get_number()\n",
    "image = test_images[num]\n",
    "label = test_labels[num]\n",
    "predict(mattsModel, image, label)\n"
   ]
  },
  {
   "attachments": {},
   "cell_type": "markdown",
   "metadata": {},
   "source": [
    "<h2 style='color:red'>Deep Computer Vision</h2><p>In this guide we will learn how to perform image classification and object detection/recognition using deep computer vision with something called a <b><i>convolutional neural network</i></b>.</p><p>The goal of our convolutional neural networks will be to classify and detect images or specific objects from within the image. We will be using image data as our featrues and label for those images as our label or output.</p><p>We already know how neural networks work so we can skip through the basics and move right into explaining the following concepts.</p><ul>\n",
    "<li>Image Data</li><li>Convolutional Layer</li><li>Pooling Layer</li><li>CNN Architectures</li></ul><p>The major differences we are about to see in these types of neural networks are the layers that make them up.</p>"
   ]
  },
  {
   "attachments": {},
   "cell_type": "markdown",
   "metadata": {},
   "source": [
    "<h3 style='color:orange'>Image Data</h3><p>So far we have dealt with pretty straight forward data that has 1 or 2 dimensions. Now we are about to deal with image data that is usually made up of 3 dimensions. These 3 dimensions are as follows:</p><ul><li>Image height</li><li>Image width</li><li>color channels</li></ul><p>The only item in the list above you may not understand is <i>color channels</i>. The number of color channels represents the depth of an image and coorelates to the colors used in it. For example, an image with three channels is likely made up of rgb (red, green, blue) pixels. So for each pixel we have three numeric values in the range 0-255 that define its color. For an image of color depth 1 we would likely have greyscale image with one value defining each pixel, again in the range of 0-255.</p>"
   ]
  },
  {
   "attachments": {},
   "cell_type": "markdown",
   "metadata": {},
   "source": [
    "<h3 style='color:orange'>Convolutional Neural Network</h3>\n",
    "<p><b>Note:</b> We will use the term convnet and convolutional neural network interchangably.</p>\n",
    "<p>Each convolutional neural network is made up of one or many convolutional layers. These layers are different than the dense layers we have seen previously. Their goal is to find patterns from within images that can be used to classify the image or parts of it. But this may sound familiar to what our densly connected neural network in the previous section was doing. Well that's because it is.</p><p>The fundemental difference between a dense layer and a convolutional layer is that dense layers detect patterns globally while convolutional layers detects patterns locally. When we have a densly connected layer each node in that layer sees all the data from the previous layer. This means that this layer is looking at ALL of the information and is only capable of analyzing the data in a global capacity. Our convolutional layer however will not be densly connected, this means it can detect local patterns using part of the input data to that layer.</p>"
   ]
  },
  {
   "attachments": {},
   "cell_type": "markdown",
   "metadata": {},
   "source": [
    "<h5>How they work</h5>\n",
    "<p>A dense neural network learns patterns that are present in one specific area of an image. This means if a pattern that the network knows is present in a different area of the image it will have to learn the pattern again in that new area to be able to detect it.</p>"
   ]
  },
  {
   "attachments": {},
   "cell_type": "markdown",
   "metadata": {},
   "source": [
    "<h5>Multiple Convolutional Layers</h5><p>In our models it is quite common to have more than one convolutional layer. Even the basic example we will use in this guide will be made up of 3 convolutional layers. These layers work together by increasing complexity and abstraction at each subsequent layer. The first layer might be responsible for picking up edges and short lines, while the second layer will take as input these lines and start forming shapes or polygons. Finally the last layer might take these shapes and determine which combinations make up a specific image.</p>"
   ]
  },
  {
   "attachments": {},
   "cell_type": "markdown",
   "metadata": {},
   "source": [
    "<h5>Feature Maps</h5><p>feature map stands for a 3D tensor with two special axes (width and height) and one depth axis. Our convolutional layers take feature maps as their input and return a new feature map that represents the prescence of specific filters from the previous feature map. These are what we call response maps.</p>"
   ]
  },
  {
   "attachments": {},
   "cell_type": "markdown",
   "metadata": {},
   "source": [
    "<h5>Layer Parameters</h5><p>A convolutional layer is defined by two key parameters.</p><h5>Filters</h5><p>A filter is a m x n pattern of pixels that we are looking for in an image. The number of filters in a convolutional layer represents how many patterns each layer is looking for an what the dapth of our response map will be. If we are looking for 32 different patterns/filters than our output feature map (aka the response map) will have a depth of 32. Each one of the 32 layers of depth will be a matrix of some size containing values indicating if the filter was present at that location or not.</p><h5>Sample Size</h5><p>This isnt really the best term to describe this but each convolutional layer is going to examine n X m blocks of pixels in each image. Typically we'll consider 3X3 or 5X5 blocks.</p><p>Our layers work by sliding these filters of n X m pixels over every possible position in our image and populating a new feature map/response map indicating whether the filter is present at each location.</p>"
   ]
  },
  {
   "cell_type": "code",
   "execution_count": null,
   "metadata": {},
   "outputs": [],
   "source": []
  }
 ],
 "metadata": {
  "kernelspec": {
   "display_name": "env",
   "language": "python",
   "name": "python3"
  },
  "language_info": {
   "codemirror_mode": {
    "name": "ipython",
    "version": 3
   },
   "file_extension": ".py",
   "mimetype": "text/x-python",
   "name": "python",
   "nbconvert_exporter": "python",
   "pygments_lexer": "ipython3",
   "version": "3.10.9"
  },
  "orig_nbformat": 4,
  "vscode": {
   "interpreter": {
    "hash": "eb70687050db1a055df7544cb3335813d112984cda72cfc7b519fe5dd8aff6a2"
   }
  }
 },
 "nbformat": 4,
 "nbformat_minor": 2
}
