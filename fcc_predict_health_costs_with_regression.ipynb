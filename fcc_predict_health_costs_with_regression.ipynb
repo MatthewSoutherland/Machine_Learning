{
  "cells": [
    {
      "cell_type": "code",
      "execution_count": 1,
      "metadata": {
        "id": "1rRo8oNqZ-Rj"
      },
      "outputs": [],
      "source": [
        "\n",
        "import matplotlib.pyplot as plt\n",
        "import numpy as np\n",
        "import pandas as pd\n",
        "\n",
        "import tensorflow as tf\n",
        "from IPython.display import clear_output\n",
        "from tensorflow import keras\n",
        "from tensorflow.keras import layers\n",
        "import tensorflow.compat.v2.feature_column as fc\n",
        "\n",
        "\n"
      ]
    },
    {
      "cell_type": "code",
      "execution_count": 3,
      "metadata": {
        "id": "CiX2FI4gZtTt"
      },
      "outputs": [
        {
          "data": {
            "text/plain": [
              "(1338, 7)"
            ]
          },
          "execution_count": 3,
          "metadata": {},
          "output_type": "execute_result"
        }
      ],
      "source": [
        "\n",
        "df = pd.read_csv('insurance.csv')\n",
        "\n",
        "df.shape"
      ]
    },
    {
      "cell_type": "code",
      "execution_count": 4,
      "metadata": {},
      "outputs": [],
      "source": [
        "# sample 20% of the dataframe for training purposes\n",
        "train_dataset = df.sample(frac=0.8, random_state=42)\n",
        "\n",
        "# the remaining 80% of the dataframe can be used for testing/validation\n",
        "test_dataset = df.drop(train_dataset.index)"
      ]
    },
    {
      "cell_type": "code",
      "execution_count": 5,
      "metadata": {},
      "outputs": [
        {
          "name": "stdout",
          "output_type": "stream",
          "text": [
            "(1070, 7)\n",
            "(268, 7)\n"
          ]
        }
      ],
      "source": [
        "print(train_dataset.shape)\n",
        "print(test_dataset.shape)"
      ]
    },
    {
      "cell_type": "code",
      "execution_count": 6,
      "metadata": {},
      "outputs": [],
      "source": [
        "bin_edges = [-float('inf'), 1000, 5000, 10000, 20000, float('inf')]"
      ]
    },
    {
      "cell_type": "code",
      "execution_count": 7,
      "metadata": {},
      "outputs": [],
      "source": [
        "test_labels = pd.cut(test_dataset['expenses'], bins=bin_edges, labels=[0, 1, 2 , 3, 4]).astype(int)\n",
        "train_labels = pd.cut(train_dataset['expenses'], bins=bin_edges, labels=[0, 1, 2, 3, 4]).astype(int)\n"
      ]
    },
    {
      "cell_type": "code",
      "execution_count": 8,
      "metadata": {},
      "outputs": [],
      "source": [
        "num_classes = 5\n",
        "test_labels = test_labels.clip(0, num_classes-1)\n",
        "train_labels = train_labels.clip(0, num_classes-1)"
      ]
    },
    {
      "cell_type": "code",
      "execution_count": 9,
      "metadata": {},
      "outputs": [],
      "source": [
        "train_pop = train_dataset.pop('expenses')\n",
        "test_pop = test_dataset.pop('expenses')\n"
      ]
    },
    {
      "cell_type": "code",
      "execution_count": 11,
      "metadata": {},
      "outputs": [
        {
          "data": {
            "text/plain": [
              "<AxesSubplot: >"
            ]
          },
          "execution_count": 11,
          "metadata": {},
          "output_type": "execute_result"
        },
        {
          "data": {
            "image/png": "[encoded data removed]",
            "text/plain": [
              "<Figure size 640x480 with 1 Axes>"
            ]
          },
          "metadata": {},
          "output_type": "display_data"
        }
      ],
      "source": [
        "train_dataset.age.hist(bins=20)"
      ]
    },
    {
      "cell_type": "code",
      "execution_count": 12,
      "metadata": {},
      "outputs": [
        {
          "data": {
            "text/html": [
              "<div>\n",
              "<style scoped>\n",
              "    .dataframe tbody tr th:only-of-type {\n",
              "        vertical-align: middle;\n",
              "    }\n",
              "\n",
              "    .dataframe tbody tr th {\n",
              "        vertical-align: top;\n",
              "    }\n",
              "\n",
              "    .dataframe thead th {\n",
              "        text-align: right;\n",
              "    }\n",
              "</style>\n",
              "<table border=\"1\" class=\"dataframe\">\n",
              "  <thead>\n",
              "    <tr style=\"text-align: right;\">\n",
              "      <th></th>\n",
              "      <th>age</th>\n",
              "      <th>sex</th>\n",
              "      <th>bmi</th>\n",
              "      <th>children</th>\n",
              "      <th>smoker</th>\n",
              "      <th>region</th>\n",
              "    </tr>\n",
              "  </thead>\n",
              "  <tbody>\n",
              "    <tr>\n",
              "      <th>764</th>\n",
              "      <td>45</td>\n",
              "      <td>female</td>\n",
              "      <td>25.2</td>\n",
              "      <td>2</td>\n",
              "      <td>no</td>\n",
              "      <td>northeast</td>\n",
              "    </tr>\n",
              "    <tr>\n",
              "      <th>887</th>\n",
              "      <td>36</td>\n",
              "      <td>female</td>\n",
              "      <td>30.0</td>\n",
              "      <td>0</td>\n",
              "      <td>no</td>\n",
              "      <td>northwest</td>\n",
              "    </tr>\n",
              "    <tr>\n",
              "      <th>890</th>\n",
              "      <td>64</td>\n",
              "      <td>female</td>\n",
              "      <td>26.9</td>\n",
              "      <td>0</td>\n",
              "      <td>yes</td>\n",
              "      <td>northwest</td>\n",
              "    </tr>\n",
              "    <tr>\n",
              "      <th>1293</th>\n",
              "      <td>46</td>\n",
              "      <td>male</td>\n",
              "      <td>25.7</td>\n",
              "      <td>3</td>\n",
              "      <td>no</td>\n",
              "      <td>northwest</td>\n",
              "    </tr>\n",
              "    <tr>\n",
              "      <th>259</th>\n",
              "      <td>19</td>\n",
              "      <td>male</td>\n",
              "      <td>31.9</td>\n",
              "      <td>0</td>\n",
              "      <td>yes</td>\n",
              "      <td>northwest</td>\n",
              "    </tr>\n",
              "  </tbody>\n",
              "</table>\n",
              "</div>"
            ],
            "text/plain": [
              "      age     sex   bmi  children smoker     region\n",
              "764    45  female  25.2         2     no  northeast\n",
              "887    36  female  30.0         0     no  northwest\n",
              "890    64  female  26.9         0    yes  northwest\n",
              "1293   46    male  25.7         3     no  northwest\n",
              "259    19    male  31.9         0    yes  northwest"
            ]
          },
          "execution_count": 12,
          "metadata": {},
          "output_type": "execute_result"
        }
      ],
      "source": [
        "train_dataset.head()"
      ]
    },
    {
      "cell_type": "code",
      "execution_count": 20,
      "metadata": {},
      "outputs": [
        {
          "name": "stdout",
          "output_type": "stream",
          "text": [
            "[VocabularyListCategoricalColumn(key='sex', vocabulary_list=('female', 'male'), dtype=tf.string, default_value=-1, num_oov_buckets=0), VocabularyListCategoricalColumn(key='smoker', vocabulary_list=('no', 'yes'), dtype=tf.string, default_value=-1, num_oov_buckets=0), VocabularyListCategoricalColumn(key='region', vocabulary_list=('northeast', 'northwest', 'southwest', 'southeast'), dtype=tf.string, default_value=-1, num_oov_buckets=0), NumericColumn(key='age', shape=(1,), default_value=None, dtype=tf.float32, normalizer_fn=None), NumericColumn(key='bmi', shape=(1,), default_value=None, dtype=tf.float32, normalizer_fn=None), NumericColumn(key='children', shape=(1,), default_value=None, dtype=tf.float32, normalizer_fn=None)]\n"
          ]
        }
      ],
      "source": [
        "CATEGORICAL_COLUMNS = ['sex', 'smoker', 'region']\n",
        "NUMERIC_COLUMNS = ['age', 'bmi', 'children']\n",
        "\n",
        "feature_columns = []\n",
        "for feature_name in CATEGORICAL_COLUMNS:\n",
        "  vocabulary = train_dataset[feature_name].unique()  # gets a list of all unique values from given feature column\n",
        "  feature_columns.append(tf.feature_column.categorical_column_with_vocabulary_list(feature_name, vocabulary))\n",
        "\n",
        "for feature_name in NUMERIC_COLUMNS:\n",
        "  feature_columns.append(tf.feature_column.numeric_column(feature_name, dtype=tf.float32))\n",
        "\n",
        "print(feature_columns)"
      ]
    },
    {
      "cell_type": "code",
      "execution_count": 14,
      "metadata": {},
      "outputs": [],
      "source": [
        "def make_input_fn(data_df, label_df, num_epochs=10, shuffle=True, batch_size=32):\n",
        "  def input_function():  # inner function, this will be returned\n",
        "    ds = tf.data.Dataset.from_tensor_slices((dict(data_df), label_df))  # create tf.data.Dataset object with data and its label\n",
        "    if shuffle:\n",
        "      ds = ds.shuffle(1000)  # randomize order of data\n",
        "    ds = ds.batch(batch_size).repeat(num_epochs)  # split dataset into batches of 32 and repeat process for number of epochs\n",
        "    return ds  # return a batch of the dataset\n",
        "  return input_function  # return a function object for use\n",
        "\n",
        "train_input_fn = make_input_fn(train_dataset, train_labels)  # here we will call the input_function that was returned to us to get a dataset object we can feed to the model\n",
        "eval_input_fn = make_input_fn(test_dataset, test_labels, num_epochs=1, shuffle=False)"
      ]
    },
    {
      "cell_type": "code",
      "execution_count": 15,
      "metadata": {},
      "outputs": [
        {
          "name": "stdout",
          "output_type": "stream",
          "text": [
            "INFO:tensorflow:Using default config.\n",
            "WARNING:tensorflow:Using temporary folder as model directory: C:\\Users\\mgsou\\AppData\\Local\\Temp\\tmp8a7_zuj4\n",
            "INFO:tensorflow:Using config: {'_model_dir': 'C:\\\\Users\\\\mgsou\\\\AppData\\\\Local\\\\Temp\\\\tmp8a7_zuj4', '_tf_random_seed': None, '_save_summary_steps': 100, '_save_checkpoints_steps': None, '_save_checkpoints_secs': 600, '_session_config': allow_soft_placement: true\n",
            "graph_options {\n",
            "  rewrite_options {\n",
            "    meta_optimizer_iterations: ONE\n",
            "  }\n",
            "}\n",
            ", '_keep_checkpoint_max': 5, '_keep_checkpoint_every_n_hours': 10000, '_log_step_count_steps': 100, '_train_distribute': None, '_device_fn': None, '_protocol': None, '_eval_distribute': None, '_experimental_distribute': None, '_experimental_max_worker_delay_secs': None, '_session_creation_timeout_secs': 7200, '_checkpoint_save_graph_def': True, '_service': None, '_cluster_spec': ClusterSpec({}), '_task_type': 'worker', '_task_id': 0, '_global_id_in_cluster': 0, '_master': '', '_evaluation_master': '', '_is_chief': True, '_num_ps_replicas': 0, '_num_worker_replicas': 1}\n"
          ]
        }
      ],
      "source": [
        "model = tf.estimator.LinearClassifier(feature_columns=feature_columns, n_classes=num_classes)"
      ]
    },
    {
      "cell_type": "code",
      "execution_count": 16,
      "metadata": {},
      "outputs": [
        {
          "name": "stdout",
          "output_type": "stream",
          "text": [
            "0.64179105\n"
          ]
        }
      ],
      "source": [
        "model.train(train_input_fn)  # train\n",
        "result = model.evaluate(eval_input_fn)  # get model metrics/stats by testing on tetsing data\n",
        "\n",
        "clear_output()  # clears consoke output\n",
        "print(result['accuracy'])  # the result variable is simply a dict of stats about our model"
      ]
    },
    {
      "cell_type": "code",
      "execution_count": 17,
      "metadata": {},
      "outputs": [
        {
          "name": "stdout",
          "output_type": "stream",
          "text": [
            "INFO:tensorflow:Calling model_fn.\n",
            "INFO:tensorflow:Done calling model_fn.\n",
            "INFO:tensorflow:Graph was finalized.\n",
            "INFO:tensorflow:Restoring parameters from C:\\Users\\mgsou\\AppData\\Local\\Temp\\tmp8a7_zuj4\\model.ckpt-340\n",
            "INFO:tensorflow:Running local_init_op.\n",
            "INFO:tensorflow:Done running local_init_op.\n"
          ]
        },
        {
          "data": {
            "text/plain": [
              "<AxesSubplot: title={'center': 'predicted probabilities'}, ylabel='Frequency'>"
            ]
          },
          "execution_count": 17,
          "metadata": {},
          "output_type": "execute_result"
        },
        {
          "data": {
            "image/png": "[encoded data removed]",
            "text/plain": [
              "<Figure size 640x480 with 1 Axes>"
            ]
          },
          "metadata": {},
          "output_type": "display_data"
        }
      ],
      "source": [
        "pred_dicts = list(model.predict(eval_input_fn))\n",
        "probs = pd.Series([pred['probabilities'][1] for pred in pred_dicts])\n",
        "\n",
        "probs.plot(kind='hist', bins=20, title='predicted probabilities')"
      ]
    },
    {
      "cell_type": "code",
      "execution_count": 19,
      "metadata": {
        "id": "Xe7RXH3N3CWU"
      },
      "outputs": [
        {
          "ename": "ValueError",
          "evalue": "The truth value of a Series is ambiguous. Use a.empty, a.bool(), a.item(), a.any() or a.all().",
          "output_type": "error",
          "traceback": [
            "\u001b[1;31m---------------------------------------------------------------------------\u001b[0m",
            "\u001b[1;31mValueError\u001b[0m                                Traceback (most recent call last)",
            "Cell \u001b[1;32mIn[19], line 3\u001b[0m\n\u001b[0;32m      1\u001b[0m \u001b[39m# RUN THIS CELL TO TEST YOUR MODEL. DO NOT MODIFY CONTENTS.\u001b[39;00m\n\u001b[0;32m      2\u001b[0m \u001b[39m# Test model by checking how well the model generalizes using the test set.\u001b[39;00m\n\u001b[1;32m----> 3\u001b[0m loss, mae, mse \u001b[39m=\u001b[39m model\u001b[39m.\u001b[39;49mevaluate(test_dataset, test_labels)\n\u001b[0;32m      5\u001b[0m \u001b[39mprint\u001b[39m(\u001b[39m\"\u001b[39m\u001b[39mTesting set Mean Abs Error: \u001b[39m\u001b[39m{:5.2f}\u001b[39;00m\u001b[39m expenses\u001b[39m\u001b[39m\"\u001b[39m\u001b[39m.\u001b[39mformat(mae))\n\u001b[0;32m      7\u001b[0m \u001b[39mif\u001b[39;00m mae \u001b[39m<\u001b[39m \u001b[39m3500\u001b[39m:\n",
            "File \u001b[1;32mc:\\Users\\mgsou\\OneDrive\\Desktop\\Programming folder\\Machine_Learning\\env\\lib\\site-packages\\tensorflow_estimator\\python\\estimator\\estimator.py:472\u001b[0m, in \u001b[0;36mEstimator.evaluate\u001b[1;34m(self, input_fn, steps, hooks, checkpoint_path, name)\u001b[0m\n\u001b[0;32m    460\u001b[0m   \u001b[39mreturn\u001b[39;00m distribute_coordinator_training\u001b[39m.\u001b[39mestimator_evaluate(\n\u001b[0;32m    461\u001b[0m       \u001b[39mself\u001b[39m,\n\u001b[0;32m    462\u001b[0m       \u001b[39mlambda\u001b[39;00m est, s, eval_hooks: est\u001b[39m.\u001b[39m_actual_eval(  \u001b[39m# pylint: disable=g-long-lambda\u001b[39;00m\n\u001b[1;32m   (...)\u001b[0m\n\u001b[0;32m    468\u001b[0m           name\u001b[39m=\u001b[39mname),\n\u001b[0;32m    469\u001b[0m       hooks)\n\u001b[0;32m    470\u001b[0m \u001b[39m# pylint: enable=protected-access\u001b[39;00m\n\u001b[0;32m    471\u001b[0m \u001b[39melse\u001b[39;00m:\n\u001b[1;32m--> 472\u001b[0m   \u001b[39mreturn\u001b[39;00m \u001b[39mself\u001b[39;49m\u001b[39m.\u001b[39;49m_actual_eval(\n\u001b[0;32m    473\u001b[0m       input_fn,\n\u001b[0;32m    474\u001b[0m       strategy\u001b[39m=\u001b[39;49m\u001b[39mself\u001b[39;49m\u001b[39m.\u001b[39;49m_eval_distribution,\n\u001b[0;32m    475\u001b[0m       steps\u001b[39m=\u001b[39;49msteps,\n\u001b[0;32m    476\u001b[0m       hooks\u001b[39m=\u001b[39;49mhooks,\n\u001b[0;32m    477\u001b[0m       checkpoint_path\u001b[39m=\u001b[39;49mcheckpoint_path,\n\u001b[0;32m    478\u001b[0m       name\u001b[39m=\u001b[39;49mname)\n",
            "File \u001b[1;32mc:\\Users\\mgsou\\OneDrive\\Desktop\\Programming folder\\Machine_Learning\\env\\lib\\site-packages\\tensorflow_estimator\\python\\estimator\\estimator.py:490\u001b[0m, in \u001b[0;36mEstimator._actual_eval\u001b[1;34m(self, input_fn, strategy, steps, hooks, checkpoint_path, name)\u001b[0m\n\u001b[0;32m    488\u001b[0m \u001b[39mwith\u001b[39;00m context\u001b[39m.\u001b[39mgraph_mode():\n\u001b[0;32m    489\u001b[0m   hooks \u001b[39m=\u001b[39m _check_hooks_type(hooks)\n\u001b[1;32m--> 490\u001b[0m   hooks\u001b[39m.\u001b[39mextend(\u001b[39mself\u001b[39;49m\u001b[39m.\u001b[39;49m_convert_eval_steps_to_hooks(steps))\n\u001b[0;32m    492\u001b[0m   \u001b[39m# Check that model has been trained (if nothing has been set explicitly).\u001b[39;00m\n\u001b[0;32m    493\u001b[0m   \u001b[39mif\u001b[39;00m \u001b[39mnot\u001b[39;00m checkpoint_path:\n",
            "File \u001b[1;32mc:\\Users\\mgsou\\OneDrive\\Desktop\\Programming folder\\Machine_Learning\\env\\lib\\site-packages\\tensorflow_estimator\\python\\estimator\\estimator.py:538\u001b[0m, in \u001b[0;36mEstimator._convert_eval_steps_to_hooks\u001b[1;34m(self, steps)\u001b[0m\n\u001b[0;32m    535\u001b[0m \u001b[39mif\u001b[39;00m steps \u001b[39mis\u001b[39;00m \u001b[39mNone\u001b[39;00m:\n\u001b[0;32m    536\u001b[0m   \u001b[39mreturn\u001b[39;00m []\n\u001b[1;32m--> 538\u001b[0m \u001b[39mif\u001b[39;00m steps \u001b[39m<\u001b[39;49m\u001b[39m=\u001b[39;49m \u001b[39m0\u001b[39;49m:\n\u001b[0;32m    539\u001b[0m   \u001b[39mraise\u001b[39;00m \u001b[39mValueError\u001b[39;00m(\u001b[39m'\u001b[39m\u001b[39mMust specify steps > 0, given: \u001b[39m\u001b[39m{}\u001b[39;00m\u001b[39m'\u001b[39m\u001b[39m.\u001b[39mformat(steps))\n\u001b[0;32m    541\u001b[0m \u001b[39m# The hooks are declared as private in evaluation.py discourage the use\u001b[39;00m\n\u001b[0;32m    542\u001b[0m \u001b[39m# by other libraries or open source users. This should be the only usage\u001b[39;00m\n\u001b[0;32m    543\u001b[0m \u001b[39m# of the estimator evaluation hooks.\u001b[39;00m\n",
            "File \u001b[1;32mc:\\Users\\mgsou\\OneDrive\\Desktop\\Programming folder\\Machine_Learning\\env\\lib\\site-packages\\pandas\\core\\generic.py:1527\u001b[0m, in \u001b[0;36mNDFrame.__nonzero__\u001b[1;34m(self)\u001b[0m\n\u001b[0;32m   1525\u001b[0m \u001b[39m@final\u001b[39m\n\u001b[0;32m   1526\u001b[0m \u001b[39mdef\u001b[39;00m \u001b[39m__nonzero__\u001b[39m(\u001b[39mself\u001b[39m) \u001b[39m-\u001b[39m\u001b[39m>\u001b[39m NoReturn:\n\u001b[1;32m-> 1527\u001b[0m     \u001b[39mraise\u001b[39;00m \u001b[39mValueError\u001b[39;00m(\n\u001b[0;32m   1528\u001b[0m         \u001b[39mf\u001b[39m\u001b[39m\"\u001b[39m\u001b[39mThe truth value of a \u001b[39m\u001b[39m{\u001b[39;00m\u001b[39mtype\u001b[39m(\u001b[39mself\u001b[39m)\u001b[39m.\u001b[39m\u001b[39m__name__\u001b[39m\u001b[39m}\u001b[39;00m\u001b[39m is ambiguous. \u001b[39m\u001b[39m\"\u001b[39m\n\u001b[0;32m   1529\u001b[0m         \u001b[39m\"\u001b[39m\u001b[39mUse a.empty, a.bool(), a.item(), a.any() or a.all().\u001b[39m\u001b[39m\"\u001b[39m\n\u001b[0;32m   1530\u001b[0m     )\n",
            "\u001b[1;31mValueError\u001b[0m: The truth value of a Series is ambiguous. Use a.empty, a.bool(), a.item(), a.any() or a.all()."
          ]
        }
      ],
      "source": [
        "# RUN THIS CELL TO TEST YOUR MODEL. DO NOT MODIFY CONTENTS.\n",
        "# Test model by checking how well the model generalizes using the test set.\n",
        "loss, mae, mse = model.evaluate(test_dataset, test_labels, verbose=2)\n",
        "\n",
        "print(\"Testing set Mean Abs Error: {:5.2f} expenses\".format(mae))\n",
        "\n",
        "if mae < 3500:\n",
        "  print(\"You passed the challenge. Great job!\")\n",
        "else:\n",
        "  print(\"The Mean Abs Error must be less than 3500. Keep trying.\")\n",
        "\n",
        "# Plot predictions.\n",
        "test_predictions = model.predict(test_dataset).flatten()\n",
        "\n",
        "a = plt.axes(aspect='equal')\n",
        "plt.scatter(test_labels, test_predictions)\n",
        "plt.xlabel('True values (expenses)')\n",
        "plt.ylabel('Predictions (expenses)')\n",
        "lims = [0, 50000]\n",
        "plt.xlim(lims)\n",
        "plt.ylim(lims)\n",
        "_ = plt.plot(lims,lims)\n"
      ]
    }
  ],
  "metadata": {
    "colab": {
      "name": "fcc_predict_health_costs_with_regression.ipynb",
      "private_outputs": true,
      "provenance": [],
      "toc_visible": true
    },
    "kernelspec": {
      "display_name": "env",
      "language": "python",
      "name": "python3"
    },
    "language_info": {
      "codemirror_mode": {
        "name": "ipython",
        "version": 3
      },
      "file_extension": ".py",
      "mimetype": "text/x-python",
      "name": "python",
      "nbconvert_exporter": "python",
      "pygments_lexer": "ipython3",
      "version": "3.10.9"
    },
    "vscode": {
      "interpreter": {
        "hash": "eb70687050db1a055df7544cb3335813d112984cda72cfc7b519fe5dd8aff6a2"
      }
    }
  },
  "nbformat": 4,
  "nbformat_minor": 0
}
